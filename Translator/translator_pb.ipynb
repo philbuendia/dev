{
 "cells": [
  {
   "cell_type": "code",
   "execution_count": 1,
   "id": "ad519338-e504-4b54-84be-c0a09bc77f6b",
   "metadata": {
    "tags": []
   },
   "outputs": [
    {
     "name": "stdout",
     "output_type": "stream",
     "text": [
      "hello world!\n"
     ]
    }
   ],
   "source": [
    "print(\"hello world!\")"
   ]
  },
  {
   "cell_type": "code",
   "execution_count": 2,
   "id": "48bc4ae3-5592-4ab2-8eed-2a92dadabdfd",
   "metadata": {
    "tags": []
   },
   "outputs": [
    {
     "name": "stdout",
     "output_type": "stream",
     "text": [
      "Collecting azure-ai-translation-text==1.0.0b1\n",
      "  Downloading azure_ai_translation_text-1.0.0b1-py3-none-any.whl.metadata (16 kB)\n",
      "Requirement already satisfied: msrest>=0.7.1 in /anaconda/envs/azureml_py310_sdkv2/lib/python3.10/site-packages (from azure-ai-translation-text==1.0.0b1) (0.7.1)\n",
      "Requirement already satisfied: azure-core<2.0.0,>=1.24.0 in /anaconda/envs/azureml_py310_sdkv2/lib/python3.10/site-packages (from azure-ai-translation-text==1.0.0b1) (1.30.2)\n",
      "Requirement already satisfied: typing-extensions>=4.3.0 in /anaconda/envs/azureml_py310_sdkv2/lib/python3.10/site-packages (from azure-ai-translation-text==1.0.0b1) (4.12.2)\n",
      "Requirement already satisfied: requests>=2.21.0 in /anaconda/envs/azureml_py310_sdkv2/lib/python3.10/site-packages (from azure-core<2.0.0,>=1.24.0->azure-ai-translation-text==1.0.0b1) (2.32.3)\n",
      "Requirement already satisfied: six>=1.11.0 in /anaconda/envs/azureml_py310_sdkv2/lib/python3.10/site-packages (from azure-core<2.0.0,>=1.24.0->azure-ai-translation-text==1.0.0b1) (1.16.0)\n",
      "Requirement already satisfied: certifi>=2017.4.17 in /anaconda/envs/azureml_py310_sdkv2/lib/python3.10/site-packages (from msrest>=0.7.1->azure-ai-translation-text==1.0.0b1) (2024.6.2)\n",
      "Requirement already satisfied: isodate>=0.6.0 in /anaconda/envs/azureml_py310_sdkv2/lib/python3.10/site-packages (from msrest>=0.7.1->azure-ai-translation-text==1.0.0b1) (0.6.1)\n",
      "Requirement already satisfied: requests-oauthlib>=0.5.0 in /anaconda/envs/azureml_py310_sdkv2/lib/python3.10/site-packages (from msrest>=0.7.1->azure-ai-translation-text==1.0.0b1) (2.0.0)\n",
      "Requirement already satisfied: charset-normalizer<4,>=2 in /anaconda/envs/azureml_py310_sdkv2/lib/python3.10/site-packages (from requests>=2.21.0->azure-core<2.0.0,>=1.24.0->azure-ai-translation-text==1.0.0b1) (3.3.2)\n",
      "Requirement already satisfied: idna<4,>=2.5 in /anaconda/envs/azureml_py310_sdkv2/lib/python3.10/site-packages (from requests>=2.21.0->azure-core<2.0.0,>=1.24.0->azure-ai-translation-text==1.0.0b1) (3.7)\n",
      "Requirement already satisfied: urllib3<3,>=1.21.1 in /anaconda/envs/azureml_py310_sdkv2/lib/python3.10/site-packages (from requests>=2.21.0->azure-core<2.0.0,>=1.24.0->azure-ai-translation-text==1.0.0b1) (2.2.1)\n",
      "Requirement already satisfied: oauthlib>=3.0.0 in /anaconda/envs/azureml_py310_sdkv2/lib/python3.10/site-packages (from requests-oauthlib>=0.5.0->msrest>=0.7.1->azure-ai-translation-text==1.0.0b1) (3.2.2)\n",
      "Downloading azure_ai_translation_text-1.0.0b1-py3-none-any.whl (65 kB)\n",
      "\u001b[2K   \u001b[90m━━━━━━━━━━━━━━━━━━━━━━━━━━━━━━━━━━━━━━━━\u001b[0m \u001b[32m65.7/65.7 kB\u001b[0m \u001b[31m2.3 MB/s\u001b[0m eta \u001b[36m0:00:00\u001b[0m\n",
      "\u001b[?25hInstalling collected packages: azure-ai-translation-text\n",
      "Successfully installed azure-ai-translation-text-1.0.0b1\n",
      "Note: you may need to restart the kernel to use updated packages.\n"
     ]
    }
   ],
   "source": [
    "pip install azure-ai-translation-text==1.0.0b1"
   ]
  },
  {
   "cell_type": "code",
   "execution_count": 6,
   "id": "b4cd7c2a-e469-40a2-9459-c7ac1044cf35",
   "metadata": {
    "tags": []
   },
   "outputs": [],
   "source": [
    "from azure.core.credentials import AzureKeyCredential\n",
    "from azure.ai.translation.text import TextTranslationClient"
   ]
  },
  {
   "cell_type": "code",
   "execution_count": 7,
   "id": "026b6a18-2b34-4ae3-b8c6-7efe5c22ee0f",
   "metadata": {
    "tags": []
   },
   "outputs": [],
   "source": [
    "apikey=\"03f95e8945e94ce2a0e72676d07fc499\"\n",
    "region=\"westus3\""
   ]
  },
  {
   "cell_type": "code",
   "execution_count": 8,
   "id": "983db20d-ce95-4650-ba33-e2f9976904ed",
   "metadata": {
    "tags": []
   },
   "outputs": [],
   "source": [
    "credential = AzureKeyCredential(apikey)\n",
    "text_translator = TextTranslationClient(credential=credential, region=region)"
   ]
  },
  {
   "cell_type": "code",
   "execution_count": 10,
   "id": "3563a731-06c0-4b38-ae13-f11b38171c03",
   "metadata": {
    "tags": []
   },
   "outputs": [
    {
     "ename": "NameError",
     "evalue": "name 'HttpResponseError' is not defined",
     "output_type": "error",
     "traceback": [
      "\u001b[0;31m---------------------------------------------------------------------------\u001b[0m",
      "\u001b[0;31mTypeError\u001b[0m                                 Traceback (most recent call last)",
      "Cell \u001b[0;32mIn[10], line 5\u001b[0m\n\u001b[1;32m      3\u001b[0m input_text_elements \u001b[38;5;241m=\u001b[39m [\u001b[38;5;124m\"\u001b[39m\u001b[38;5;124mThis is a test\u001b[39m\u001b[38;5;124m\"\u001b[39m]\n\u001b[0;32m----> 5\u001b[0m response \u001b[38;5;241m=\u001b[39m \u001b[43mtext_translator\u001b[49m\u001b[38;5;241;43m.\u001b[39;49m\u001b[43mtranslate\u001b[49m\u001b[43m(\u001b[49m\u001b[43mbody\u001b[49m\u001b[38;5;241;43m=\u001b[39;49m\u001b[43minput_text_elements\u001b[49m\u001b[43m,\u001b[49m\u001b[43m \u001b[49m\u001b[43mto_language\u001b[49m\u001b[38;5;241;43m=\u001b[39;49m\u001b[43mto_language\u001b[49m\u001b[43m)\u001b[49m\n\u001b[1;32m      6\u001b[0m translation \u001b[38;5;241m=\u001b[39m response[\u001b[38;5;241m0\u001b[39m] \u001b[38;5;28;01mif\u001b[39;00m response \u001b[38;5;28;01melse\u001b[39;00m \u001b[38;5;28;01mNone\u001b[39;00m\n",
      "File \u001b[0;32m/anaconda/envs/azureml_py310_sdkv2/lib/python3.10/site-packages/azure/core/tracing/decorator.py:94\u001b[0m, in \u001b[0;36mdistributed_trace.<locals>.decorator.<locals>.wrapper_use_tracer\u001b[0;34m(*args, **kwargs)\u001b[0m\n\u001b[1;32m     93\u001b[0m \u001b[38;5;28;01mif\u001b[39;00m span_impl_type \u001b[38;5;129;01mis\u001b[39;00m \u001b[38;5;28;01mNone\u001b[39;00m:\n\u001b[0;32m---> 94\u001b[0m     \u001b[38;5;28;01mreturn\u001b[39;00m \u001b[43mfunc\u001b[49m\u001b[43m(\u001b[49m\u001b[38;5;241;43m*\u001b[39;49m\u001b[43margs\u001b[49m\u001b[43m,\u001b[49m\u001b[43m \u001b[49m\u001b[38;5;241;43m*\u001b[39;49m\u001b[38;5;241;43m*\u001b[39;49m\u001b[43mkwargs\u001b[49m\u001b[43m)\u001b[49m\n\u001b[1;32m     96\u001b[0m \u001b[38;5;66;03m# Merge span is parameter is set, but only if no explicit parent are passed\u001b[39;00m\n",
      "\u001b[0;31mTypeError\u001b[0m: TextTranslationClientOperationsMixin.translate() missing 1 required positional argument: 'content'",
      "\nDuring handling of the above exception, another exception occurred:\n",
      "\u001b[0;31mNameError\u001b[0m                                 Traceback (most recent call last)",
      "Cell \u001b[0;32mIn[10], line 17\u001b[0m\n\u001b[1;32m     14\u001b[0m         \u001b[38;5;28;01mfor\u001b[39;00m translated_text \u001b[38;5;129;01min\u001b[39;00m translation\u001b[38;5;241m.\u001b[39mtranslations:\n\u001b[1;32m     15\u001b[0m             \u001b[38;5;28mprint\u001b[39m(\u001b[38;5;124mf\u001b[39m\u001b[38;5;124m\"\u001b[39m\u001b[38;5;124mText was translated to: \u001b[39m\u001b[38;5;124m'\u001b[39m\u001b[38;5;132;01m{\u001b[39;00mtranslated_text\u001b[38;5;241m.\u001b[39mto\u001b[38;5;132;01m}\u001b[39;00m\u001b[38;5;124m'\u001b[39m\u001b[38;5;124m and the result is: \u001b[39m\u001b[38;5;124m'\u001b[39m\u001b[38;5;132;01m{\u001b[39;00mtranslated_text\u001b[38;5;241m.\u001b[39mtext\u001b[38;5;132;01m}\u001b[39;00m\u001b[38;5;124m'\u001b[39m\u001b[38;5;124m.\u001b[39m\u001b[38;5;124m\"\u001b[39m)\n\u001b[0;32m---> 17\u001b[0m \u001b[38;5;28;01mexcept\u001b[39;00m \u001b[43mHttpResponseError\u001b[49m \u001b[38;5;28;01mas\u001b[39;00m exception:\n\u001b[1;32m     18\u001b[0m     \u001b[38;5;28;01mif\u001b[39;00m exception\u001b[38;5;241m.\u001b[39merror \u001b[38;5;129;01mis\u001b[39;00m \u001b[38;5;129;01mnot\u001b[39;00m \u001b[38;5;28;01mNone\u001b[39;00m:\n\u001b[1;32m     19\u001b[0m         \u001b[38;5;28mprint\u001b[39m(\u001b[38;5;124mf\u001b[39m\u001b[38;5;124m\"\u001b[39m\u001b[38;5;124mError Code: \u001b[39m\u001b[38;5;132;01m{\u001b[39;00mexception\u001b[38;5;241m.\u001b[39merror\u001b[38;5;241m.\u001b[39mcode\u001b[38;5;132;01m}\u001b[39;00m\u001b[38;5;124m\"\u001b[39m)\n",
      "\u001b[0;31mNameError\u001b[0m: name 'HttpResponseError' is not defined"
     ]
    }
   ],
   "source": [
    "try:\n",
    "    to_language = [\"es\"]\n",
    "    input_text_elements = [\"This is a test\"]\n",
    "\n",
    "    response = text_translator.translate(body=input_text_elements, to_language=to_language)\n",
    "    translation = response[0] if response else None\n",
    "\n",
    "    if translation:\n",
    "        detected_language = translation.detected_language\n",
    "        if detected_language:\n",
    "            print(\n",
    "                f\"Detected languages of the input text: {detected_language.language} with score: {detected_language.score}.\"\n",
    "            )\n",
    "        for translated_text in translation.translations:\n",
    "            print(f\"Text was translated to: '{translated_text.to}' and the result is: '{translated_text.text}'.\")\n",
    "\n",
    "except HttpResponseError as exception:\n",
    "    if exception.error is not None:\n",
    "        print(f\"Error Code: {exception.error.code}\")\n",
    "        print(f\"Message: {exception.error.message}\")"
   ]
  },
  {
   "cell_type": "code",
   "execution_count": 11,
   "id": "23879935-0e36-4fa6-9707-6dd75ff66ba5",
   "metadata": {
    "tags": []
   },
   "outputs": [
    {
     "ename": "TypeError",
     "evalue": "TextTranslationClientOperationsMixin.translate() missing 1 required keyword-only argument: 'to'",
     "output_type": "error",
     "traceback": [
      "\u001b[0;31m---------------------------------------------------------------------------\u001b[0m",
      "\u001b[0;31mTypeError\u001b[0m                                 Traceback (most recent call last)",
      "Cell \u001b[0;32mIn[11], line 8\u001b[0m\n\u001b[1;32m      5\u001b[0m input_text_elements \u001b[38;5;241m=\u001b[39m [\u001b[38;5;124m\"\u001b[39m\u001b[38;5;124mThis is a test\u001b[39m\u001b[38;5;124m\"\u001b[39m]\n\u001b[1;32m      7\u001b[0m \u001b[38;5;66;03m# Ensure the correct argument name is used, i.e., `content` instead of `body`\u001b[39;00m\n\u001b[0;32m----> 8\u001b[0m response \u001b[38;5;241m=\u001b[39m \u001b[43mtext_translator\u001b[49m\u001b[38;5;241;43m.\u001b[39;49m\u001b[43mtranslate\u001b[49m\u001b[43m(\u001b[49m\u001b[43mcontent\u001b[49m\u001b[38;5;241;43m=\u001b[39;49m\u001b[43minput_text_elements\u001b[49m\u001b[43m,\u001b[49m\u001b[43m \u001b[49m\u001b[43mto_language\u001b[49m\u001b[38;5;241;43m=\u001b[39;49m\u001b[43mto_language\u001b[49m\u001b[43m)\u001b[49m\n\u001b[1;32m      9\u001b[0m translation \u001b[38;5;241m=\u001b[39m response[\u001b[38;5;241m0\u001b[39m] \u001b[38;5;28;01mif\u001b[39;00m response \u001b[38;5;28;01melse\u001b[39;00m \u001b[38;5;28;01mNone\u001b[39;00m\n\u001b[1;32m     11\u001b[0m \u001b[38;5;28;01mif\u001b[39;00m translation:\n",
      "File \u001b[0;32m/anaconda/envs/azureml_py310_sdkv2/lib/python3.10/site-packages/azure/core/tracing/decorator.py:94\u001b[0m, in \u001b[0;36mdistributed_trace.<locals>.decorator.<locals>.wrapper_use_tracer\u001b[0;34m(*args, **kwargs)\u001b[0m\n\u001b[1;32m     92\u001b[0m span_impl_type \u001b[38;5;241m=\u001b[39m settings\u001b[38;5;241m.\u001b[39mtracing_implementation()\n\u001b[1;32m     93\u001b[0m \u001b[38;5;28;01mif\u001b[39;00m span_impl_type \u001b[38;5;129;01mis\u001b[39;00m \u001b[38;5;28;01mNone\u001b[39;00m:\n\u001b[0;32m---> 94\u001b[0m     \u001b[38;5;28;01mreturn\u001b[39;00m \u001b[43mfunc\u001b[49m\u001b[43m(\u001b[49m\u001b[38;5;241;43m*\u001b[39;49m\u001b[43margs\u001b[49m\u001b[43m,\u001b[49m\u001b[43m \u001b[49m\u001b[38;5;241;43m*\u001b[39;49m\u001b[38;5;241;43m*\u001b[39;49m\u001b[43mkwargs\u001b[49m\u001b[43m)\u001b[49m\n\u001b[1;32m     96\u001b[0m \u001b[38;5;66;03m# Merge span is parameter is set, but only if no explicit parent are passed\u001b[39;00m\n\u001b[1;32m     97\u001b[0m \u001b[38;5;28;01mif\u001b[39;00m merge_span \u001b[38;5;129;01mand\u001b[39;00m \u001b[38;5;129;01mnot\u001b[39;00m passed_in_parent:\n",
      "\u001b[0;31mTypeError\u001b[0m: TextTranslationClientOperationsMixin.translate() missing 1 required keyword-only argument: 'to'"
     ]
    }
   ],
   "source": [
    "from azure.core.exceptions import HttpResponseError  # Import the correct exception\n",
    "\n",
    "try:\n",
    "    to_language = [\"es\"]\n",
    "    input_text_elements = [\"This is a test\"]\n",
    "\n",
    "    # Ensure the correct argument name is used, i.e., `content` instead of `body`\n",
    "    response = text_translator.translate(content=input_text_elements, to_language=to_language)\n",
    "    translation = response[0] if response else None\n",
    "\n",
    "    if translation:\n",
    "        detected_language = translation.detected_language\n",
    "        if detected_language:\n",
    "            print(\n",
    "                f\"Detected languages of the input text: {detected_language.language} with score: {detected_language.score}.\"\n",
    "            )\n",
    "        for translated_text in translation.translations:\n",
    "            print(f\"Text was translated to: '{translated_text.to}' and the result is: '{translated_text.text}'.\")\n",
    "\n",
    "except HttpResponseError as exception:\n",
    "    if exception.error is not None:\n",
    "        print(f\"Error Code: {exception.error.code}\")\n",
    "        print(f\"Message: {exception.error.message}\")\n"
   ]
  },
  {
   "cell_type": "code",
   "execution_count": 13,
   "id": "fa737463-7c4d-4cc3-aa94-d85915dd90a9",
   "metadata": {
    "tags": []
   },
   "outputs": [
    {
     "name": "stdout",
     "output_type": "stream",
     "text": [
      "Error Code: 400074\n",
      "Message: The body of the request is not valid JSON.\n"
     ]
    }
   ],
   "source": [
    "from azure.ai.translation.text import TextTranslationClient\n",
    "from azure.core.credentials import AzureKeyCredential\n",
    "\n",
    "# Replace with your actual key and endpoint\n",
    "endpoint = \"https://translator-test-3542.cognitiveservices.azure.com/\"\n",
    "subscription_key = \"03f95e8945e94ce2a0e72676d07fc499\"\n",
    "\n",
    "# Initialize the client\n",
    "text_translator = TextTranslationClient(\n",
    "    endpoint=endpoint, \n",
    "    credential=AzureKeyCredential(subscription_key)\n",
    ")\n",
    "\n",
    "\n",
    "from azure.core.exceptions import HttpResponseError  # Import the correct exception\n",
    "\n",
    "try:\n",
    "    to_language = [\"es\"]\n",
    "    input_text_elements = [\"This is a test\"]\n",
    "\n",
    "    # Correcting the argument to use 'to' instead of 'to_language'\n",
    "    response = text_translator.translate(content=input_text_elements, to=to_language)\n",
    "    translation = response[0] if response else None\n",
    "\n",
    "    if translation:\n",
    "        detected_language = translation.detected_language\n",
    "        if detected_language:\n",
    "            print(\n",
    "                f\"Detected languages of the input text: {detected_language.language} with score: {detected_language.score}.\"\n",
    "            )\n",
    "        for translated_text in translation.translations:\n",
    "            print(f\"Text was translated to: '{translated_text.to}' and the result is: '{translated_text.text}'.\")\n",
    "\n",
    "except HttpResponseError as exception:\n",
    "    if exception.error is not None:\n",
    "        print(f\"Error Code: {exception.error.code}\")\n",
    "        print(f\"Message: {exception.error.message}\")\n"
   ]
  },
  {
   "cell_type": "code",
   "execution_count": 1,
   "id": "3e261ea6-a5da-44fc-8fab-65dd9fdf985b",
   "metadata": {
    "tags": []
   },
   "outputs": [
    {
     "name": "stdout",
     "output_type": "stream",
     "text": [
      "Detected language: en with score: 0.81.\n",
      "Text translated to: 'es' with result: '¡Hola mundo!'.\n"
     ]
    }
   ],
   "source": [
    "from azure.ai.translation.text import TextTranslationClient\n",
    "from azure.core.credentials import AzureKeyCredential\n",
    "\n",
    "# Replace with your actual key and endpoint\n",
    "endpoint = \"https://translator-test-3542.cognitiveservices.azure.com/\"\n",
    "subscription_key = \"03f95e8945e94ce2a0e72676d07fc499\"\n",
    "\n",
    "# Initialize the client\n",
    "text_translator = TextTranslationClient(\n",
    "    endpoint=endpoint, \n",
    "    credential=AzureKeyCredential(subscription_key)\n",
    ")\n",
    "\n",
    "\n",
    "from azure.core.exceptions import HttpResponseError  # Import the correct exception\n",
    "\n",
    "# Initialize the client\n",
    "text_translator = TextTranslationClient(\n",
    "    endpoint=endpoint, \n",
    "    credential=AzureKeyCredential(subscription_key)\n",
    ")\n",
    "\n",
    "try:\n",
    "    to_language = [\"es\"]\n",
    "    # The input must be an array of dictionaries with \"Text\" as the key\n",
    "    input_text_elements = [{\"Text\": \"Hello World!\"}]\n",
    "\n",
    "    # Correcting the argument to use 'to' and input text in the proper format\n",
    "    response = text_translator.translate(content=input_text_elements, to=to_language)\n",
    "    translation = response[0] if response else None\n",
    "\n",
    "    if translation:\n",
    "        detected_language = translation.detected_language\n",
    "        if detected_language:\n",
    "            print(\n",
    "                f\"Detected language: {detected_language.language} with score: {detected_language.score}.\"\n",
    "            )\n",
    "        for translated_text in translation.translations:\n",
    "            print(f\"Text translated to: '{translated_text.to}' with result: '{translated_text.text}'.\")\n",
    "\n",
    "except HttpResponseError as exception:\n",
    "    if exception.error is not None:\n",
    "        print(f\"Error Code: {exception.error.code}\")\n",
    "        print(f\"Message: {exception.error.message}\")"
   ]
  },
  {
   "cell_type": "code",
   "execution_count": null,
   "id": "7372773a-f25a-4631-b0db-7bfabdc4befe",
   "metadata": {},
   "outputs": [],
   "source": []
  }
 ],
 "metadata": {
  "kernelspec": {
   "display_name": "Python 3.10 - SDK v2",
   "language": "python",
   "name": "python310-sdkv2"
  },
  "language_info": {
   "codemirror_mode": {
    "name": "ipython",
    "version": 3
   },
   "file_extension": ".py",
   "mimetype": "text/x-python",
   "name": "python",
   "nbconvert_exporter": "python",
   "pygments_lexer": "ipython3",
   "version": "3.10.14"
  }
 },
 "nbformat": 4,
 "nbformat_minor": 5
}
